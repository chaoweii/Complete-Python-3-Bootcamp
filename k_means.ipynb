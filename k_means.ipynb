{
  "nbformat": 4,
  "nbformat_minor": 0,
  "metadata": {
    "colab": {
      "name": "k_means.ipynb",
      "provenance": [],
      "collapsed_sections": [],
      "authorship_tag": "ABX9TyOtBkytmXIQMJrdg0gP/yNy",
      "include_colab_link": true
    },
    "kernelspec": {
      "name": "python3",
      "display_name": "Python 3"
    },
    "language_info": {
      "name": "python"
    }
  },
  "cells": [
    {
      "cell_type": "markdown",
      "metadata": {
        "id": "view-in-github",
        "colab_type": "text"
      },
      "source": [
        "<a href=\"https://colab.research.google.com/github/chaoweii/Complete-Python-3-Bootcamp/blob/master/k_means.ipynb\" target=\"_parent\"><img src=\"https://colab.research.google.com/assets/colab-badge.svg\" alt=\"Open In Colab\"/></a>"
      ]
    },
    {
      "cell_type": "code",
      "metadata": {
        "id": "jCPCt4CcRIc_"
      },
      "source": [
        "# Assuming data is [(x0, y0), (x1, y1), .......]"
      ],
      "execution_count": null,
      "outputs": []
    },
    {
      "cell_type": "code",
      "metadata": {
        "id": "I4Sn0QFBWIx1"
      },
      "source": [
        "import random"
      ],
      "execution_count": 2,
      "outputs": []
    },
    {
      "cell_type": "code",
      "metadata": {
        "id": "sq7HJ-R0WP36"
      },
      "source": [
        "def random_sample(lb, ub):\n",
        "  return lb + (ub-lb) * random.random()"
      ],
      "execution_count": 3,
      "outputs": []
    },
    {
      "cell_type": "code",
      "metadata": {
        "id": "l1SKJbaQU_L4"
      },
      "source": [
        "def initiate_centroids(data, k):\n",
        "  x_min = y_min = float('inf')\n",
        "  x_max = y_max = float('-inf')\n",
        "\n",
        "  for point in data:\n",
        "    x_min = min(point[0], x_min)\n",
        "    x_max = max(point[0], x_max)\n",
        "    y_min = min(point[1], y_min)\n",
        "    y_max = max(point[1], y_max)\n",
        "\n",
        "  centroids = []\n",
        "\n",
        "  for i in range(k):\n",
        "    centroids.append((random_sample(x_min, x_max),\n",
        "                     random_sample(y_min, y_max)))\n",
        "  \n",
        "  return centroids"
      ],
      "execution_count": 18,
      "outputs": []
    },
    {
      "cell_type": "code",
      "metadata": {
        "id": "vuTnczj7octK"
      },
      "source": [
        "def calc_distance(x, y):\n",
        "  return ((x[0] - y[0]) ** 2 + (x[1] - y[1]) ** 2) ** 0.5"
      ],
      "execution_count": 19,
      "outputs": []
    },
    {
      "cell_type": "code",
      "metadata": {
        "id": "LZ1vfrlNnh09"
      },
      "source": [
        "def get_labels(data, centroids):\n",
        "  labels = []\n",
        "\n",
        "  for point in data:\n",
        "    min_dist = float('inf')\n",
        "    label = None\n",
        "    for i, centroid in enumerate(centroids):\n",
        "      dist = calc_distance(point, centroid)\n",
        "      if dist < min_dist:\n",
        "        min_dist = dist\n",
        "        label = i\n",
        "      labels.append(i)\n",
        "\n",
        "  return labels"
      ],
      "execution_count": 28,
      "outputs": []
    },
    {
      "cell_type": "code",
      "metadata": {
        "id": "6C8Cpi-5pHVP"
      },
      "source": [
        "def update_centroids(data, labels, k):\n",
        "  centroids = [[0, 0] for i in range(k)]\n",
        "  n_points = [0 for i in range(k)]\n",
        "\n",
        "  for point, label in zip(data, labels):\n",
        "    centroids[label][0] += point[0]\n",
        "    centroids[label][1] += point[1]\n",
        "    n_points[label] += 1\n",
        "  \n",
        "  for label, (x, y) in enumerate(centroids):\n",
        "    centroids[label][0] = x / n_points[label]\n",
        "    centroids[label][1] = y / n_points[label]\n",
        "\n",
        "  return centroids\n",
        "    "
      ],
      "execution_count": 29,
      "outputs": []
    },
    {
      "cell_type": "code",
      "metadata": {
        "id": "xDNF2tZorYWl"
      },
      "source": [
        "def should_stop(centroids, prev_centroids, threshold=1e-5):\n",
        "  diff = 0\n",
        "  for centroid, prev_centroid in zip(centroids, prev_centroids):\n",
        "    diff += calc_distance(centroid, prev_centroid)\n",
        "  if diff < threshold:\n",
        "    return True"
      ],
      "execution_count": 66,
      "outputs": []
    },
    {
      "cell_type": "code",
      "metadata": {
        "id": "Xw-20V6HQToC"
      },
      "source": [
        "def kmeans(data, k, max_iter=10000):\n",
        "  centroids = initiate_centroids(data, k)\n",
        "\n",
        "  if max_iter:\n",
        "    i = 1\n",
        "  # update centroids until convergence\n",
        "    while i<max_iter:\n",
        "      prev_centroids = centroids\n",
        "      labels = get_labels(data, prev_centroids)\n",
        "      centroids = update_centroids(data, labels, k)\n",
        "\n",
        "      if should_stop(centroids, prev_centroids):\n",
        "        break\n",
        "      i += 1\n",
        "  \n",
        "  else:\n",
        "      while True:\n",
        "        prev_centroids = centroids\n",
        "        labels = get_labels(data, prev_centroids)\n",
        "        centroids = update_centroids(data, labels, k)\n",
        "\n",
        "        if should_stop(centroids, prev_centroids):\n",
        "          break\n",
        "      # assign labels given stable centroids\n",
        "\n",
        "  return labels, centroids"
      ],
      "execution_count": 67,
      "outputs": []
    },
    {
      "cell_type": "code",
      "metadata": {
        "id": "-NiIZMUosLeY"
      },
      "source": [
        ""
      ],
      "execution_count": null,
      "outputs": []
    },
    {
      "cell_type": "code",
      "metadata": {
        "id": "l19O2Iw7sgKa"
      },
      "source": [
        "# Test Case 1\n",
        "seg1 = [(random.random(), random.random()) for i in range(100)]\n",
        "seg2 = [(5 + random.random(), 5 + random.random()) for i in range(100)]\n",
        "points = seg1 + seg2"
      ],
      "execution_count": 63,
      "outputs": []
    },
    {
      "cell_type": "code",
      "metadata": {
        "id": "XoQfE7GStUGl"
      },
      "source": [
        "case1_seg, case1_centroids = kmeans(points, 2, max_iter=False)"
      ],
      "execution_count": 64,
      "outputs": []
    },
    {
      "cell_type": "code",
      "metadata": {
        "colab": {
          "base_uri": "https://localhost:8080/"
        },
        "id": "AOkOZYsjvu91",
        "outputId": "5cf4fabd-d9a5-44af-a3da-76c5ec466e80"
      },
      "source": [
        "# Expect them to be (0.5, 0.5) and (5.5, 5.5)\n",
        "case1_centroids"
      ],
      "execution_count": 68,
      "outputs": [
        {
          "output_type": "execute_result",
          "data": {
            "text/plain": [
              "[[2.970264290075089, 2.988611390957705],\n",
              " [2.9753011359817987, 2.997055145122652]]"
            ]
          },
          "metadata": {
            "tags": []
          },
          "execution_count": 68
        }
      ]
    },
    {
      "cell_type": "code",
      "metadata": {
        "id": "oXKog24avdLS"
      },
      "source": [
        "points_shuffle = random.shuffle(points)"
      ],
      "execution_count": 54,
      "outputs": []
    },
    {
      "cell_type": "code",
      "metadata": {
        "id": "rqrL_BzfvmlW"
      },
      "source": [
        "points_shuffle"
      ],
      "execution_count": 56,
      "outputs": []
    },
    {
      "cell_type": "code",
      "metadata": {
        "colab": {
          "base_uri": "https://localhost:8080/",
          "height": 307
        },
        "id": "kqwXHXC1vifS",
        "outputId": "6a6704e9-a059-4a11-8dd1-eea0bb63e85d"
      },
      "source": [
        "case1_seg, case1_centroids = kmeans(points_shuffle, 2, max_iter=False)"
      ],
      "execution_count": 55,
      "outputs": [
        {
          "output_type": "error",
          "ename": "TypeError",
          "evalue": "ignored",
          "traceback": [
            "\u001b[0;31m---------------------------------------------------------------------------\u001b[0m",
            "\u001b[0;31mTypeError\u001b[0m                                 Traceback (most recent call last)",
            "\u001b[0;32m<ipython-input-55-d94713917a8e>\u001b[0m in \u001b[0;36m<module>\u001b[0;34m()\u001b[0m\n\u001b[0;32m----> 1\u001b[0;31m \u001b[0mcase1_seg\u001b[0m\u001b[0;34m,\u001b[0m \u001b[0mcase1_centroids\u001b[0m \u001b[0;34m=\u001b[0m \u001b[0mkmeans\u001b[0m\u001b[0;34m(\u001b[0m\u001b[0mpoints_shuffle\u001b[0m\u001b[0;34m,\u001b[0m \u001b[0;36m2\u001b[0m\u001b[0;34m,\u001b[0m \u001b[0mmax_iter\u001b[0m\u001b[0;34m=\u001b[0m\u001b[0;32mFalse\u001b[0m\u001b[0;34m)\u001b[0m\u001b[0;34m\u001b[0m\u001b[0;34m\u001b[0m\u001b[0m\n\u001b[0m",
            "\u001b[0;32m<ipython-input-41-50173271ed95>\u001b[0m in \u001b[0;36mkmeans\u001b[0;34m(data, k, max_iter)\u001b[0m\n\u001b[1;32m      1\u001b[0m \u001b[0;32mdef\u001b[0m \u001b[0mkmeans\u001b[0m\u001b[0;34m(\u001b[0m\u001b[0mdata\u001b[0m\u001b[0;34m,\u001b[0m \u001b[0mk\u001b[0m\u001b[0;34m,\u001b[0m \u001b[0mmax_iter\u001b[0m\u001b[0;34m=\u001b[0m\u001b[0;36m10000\u001b[0m\u001b[0;34m)\u001b[0m\u001b[0;34m:\u001b[0m\u001b[0;34m\u001b[0m\u001b[0;34m\u001b[0m\u001b[0m\n\u001b[0;32m----> 2\u001b[0;31m   \u001b[0mcentroids\u001b[0m \u001b[0;34m=\u001b[0m \u001b[0minitiate_centroids\u001b[0m\u001b[0;34m(\u001b[0m\u001b[0mdata\u001b[0m\u001b[0;34m,\u001b[0m \u001b[0mk\u001b[0m\u001b[0;34m)\u001b[0m\u001b[0;34m\u001b[0m\u001b[0;34m\u001b[0m\u001b[0m\n\u001b[0m\u001b[1;32m      3\u001b[0m \u001b[0;34m\u001b[0m\u001b[0m\n\u001b[1;32m      4\u001b[0m   \u001b[0;32mif\u001b[0m \u001b[0mmax_iter\u001b[0m\u001b[0;34m:\u001b[0m\u001b[0;34m\u001b[0m\u001b[0;34m\u001b[0m\u001b[0m\n\u001b[1;32m      5\u001b[0m     \u001b[0mi\u001b[0m \u001b[0;34m=\u001b[0m \u001b[0;36m1\u001b[0m\u001b[0;34m\u001b[0m\u001b[0;34m\u001b[0m\u001b[0m\n",
            "\u001b[0;32m<ipython-input-18-87e86d0d53e2>\u001b[0m in \u001b[0;36minitiate_centroids\u001b[0;34m(data, k)\u001b[0m\n\u001b[1;32m      3\u001b[0m   \u001b[0mx_max\u001b[0m \u001b[0;34m=\u001b[0m \u001b[0my_max\u001b[0m \u001b[0;34m=\u001b[0m \u001b[0mfloat\u001b[0m\u001b[0;34m(\u001b[0m\u001b[0;34m'-inf'\u001b[0m\u001b[0;34m)\u001b[0m\u001b[0;34m\u001b[0m\u001b[0;34m\u001b[0m\u001b[0m\n\u001b[1;32m      4\u001b[0m \u001b[0;34m\u001b[0m\u001b[0m\n\u001b[0;32m----> 5\u001b[0;31m   \u001b[0;32mfor\u001b[0m \u001b[0mpoint\u001b[0m \u001b[0;32min\u001b[0m \u001b[0mdata\u001b[0m\u001b[0;34m:\u001b[0m\u001b[0;34m\u001b[0m\u001b[0;34m\u001b[0m\u001b[0m\n\u001b[0m\u001b[1;32m      6\u001b[0m     \u001b[0mx_min\u001b[0m \u001b[0;34m=\u001b[0m \u001b[0mmin\u001b[0m\u001b[0;34m(\u001b[0m\u001b[0mpoint\u001b[0m\u001b[0;34m[\u001b[0m\u001b[0;36m0\u001b[0m\u001b[0;34m]\u001b[0m\u001b[0;34m,\u001b[0m \u001b[0mx_min\u001b[0m\u001b[0;34m)\u001b[0m\u001b[0;34m\u001b[0m\u001b[0;34m\u001b[0m\u001b[0m\n\u001b[1;32m      7\u001b[0m     \u001b[0mx_max\u001b[0m \u001b[0;34m=\u001b[0m \u001b[0mmax\u001b[0m\u001b[0;34m(\u001b[0m\u001b[0mpoint\u001b[0m\u001b[0;34m[\u001b[0m\u001b[0;36m0\u001b[0m\u001b[0;34m]\u001b[0m\u001b[0;34m,\u001b[0m \u001b[0mx_max\u001b[0m\u001b[0;34m)\u001b[0m\u001b[0;34m\u001b[0m\u001b[0;34m\u001b[0m\u001b[0m\n",
            "\u001b[0;31mTypeError\u001b[0m: 'NoneType' object is not iterable"
          ]
        }
      ]
    },
    {
      "cell_type": "code",
      "metadata": {
        "id": "xGyUMYwWvksF"
      },
      "source": [
        ""
      ],
      "execution_count": null,
      "outputs": []
    },
    {
      "cell_type": "code",
      "metadata": {
        "id": "alhNZHyevC55"
      },
      "source": [
        "# Test Case 1\n",
        "seg1 = [(random.random(), random.random()) for i in range(100)]\n",
        "seg2 = [(random.randrange(4, 5), random.randrange(1, 5)) for i in range(100)]\n",
        "points = seg1 + seg2"
      ],
      "execution_count": null,
      "outputs": []
    },
    {
      "cell_type": "code",
      "metadata": {
        "colab": {
          "base_uri": "https://localhost:8080/"
        },
        "id": "u9kEnQBWtGP8",
        "outputId": "449133fc-9378-4e88-934c-9fe7a06d0d3c"
      },
      "source": [
        "points"
      ],
      "execution_count": 47,
      "outputs": [
        {
          "output_type": "execute_result",
          "data": {
            "text/plain": [
              "[(0.3219527766097078, 0.27764702419838416),\n",
              " (0.08172259895703593, 0.15445626097548915),\n",
              " (0.8477251591005451, 0.5487159066652361),\n",
              " (0.3229076898438561, 0.5671730126380002),\n",
              " (0.9293209284535524, 0.059135833917233316),\n",
              " (0.766772209135096, 0.17321506781530127),\n",
              " (0.4679646327388548, 0.3865309611725689),\n",
              " (0.8183828518047049, 0.5483484936719898),\n",
              " (0.2920441994312043, 0.4247748640959572),\n",
              " (0.6671647336302325, 0.1931592165037267),\n",
              " (0.2790306713365611, 0.38476668929962354),\n",
              " (0.5856461405124052, 0.5515404217028171),\n",
              " (0.51654012061361, 0.9119296148342096),\n",
              " (0.48864504040762113, 0.803772335885906),\n",
              " (0.499744617230959, 0.9721465645531927),\n",
              " (0.2687789092145042, 0.38005333043769585),\n",
              " (0.10303956657999902, 0.7508721794240741),\n",
              " (0.16490551539950327, 0.9794496881688972),\n",
              " (0.3688315677454983, 0.6077075876127552),\n",
              " (0.8733539531081431, 0.3291399784666743),\n",
              " (0.8560199659852179, 0.9746096859776783),\n",
              " (0.8951154408370732, 0.7063956278933833),\n",
              " (0.5108320731631972, 0.9853029835438368),\n",
              " (0.8615422912936438, 0.42710577400516514),\n",
              " (0.21440277778186112, 0.5774941474189889),\n",
              " (0.6354710906933448, 0.5060347742931387),\n",
              " (0.16238731125070305, 0.8376617315458563),\n",
              " (0.08418577206528466, 0.4744494203679597),\n",
              " (0.40691472296510833, 0.8707893575084431),\n",
              " (0.2259877302581712, 0.3214231726470188),\n",
              " (0.9101890733271005, 0.3428938020281974),\n",
              " (0.50399364158673, 0.5437372926230609),\n",
              " (0.4957375496087162, 0.12544502631306031),\n",
              " (0.22681975141237887, 0.4472713684029228),\n",
              " (0.5664263758079724, 0.34404071189183516),\n",
              " (0.2576218931386757, 0.9898217378701847),\n",
              " (0.05943553960987691, 0.6999455320592364),\n",
              " (0.2695239435379547, 0.4685802700094388),\n",
              " (0.8733536697508479, 0.6428247413813611),\n",
              " (0.6647280390771635, 0.5410590871468273),\n",
              " (0.8224370991259983, 0.4132015178660996),\n",
              " (0.6738447433189345, 0.9028209498694257),\n",
              " (0.6561411613947807, 0.5396507660765102),\n",
              " (0.5744676765817351, 0.7991377722418571),\n",
              " (0.527168422735032, 0.40246632371427626),\n",
              " (0.4593054875677328, 0.6401885147778494),\n",
              " (0.06991329285240744, 0.5231333697481038),\n",
              " (0.442705676844657, 0.8816841389857071),\n",
              " (0.2623642019718283, 0.2961752296958444),\n",
              " (0.11019254717338256, 0.8869647350434603),\n",
              " (0.17281248938374671, 0.3160624414148916),\n",
              " (0.15152129827461025, 0.8190123893750321),\n",
              " (0.30648060987380543, 0.9992076893919158),\n",
              " (0.4585148367637414, 0.03332859185251169),\n",
              " (0.6229380112895173, 0.14107723721896137),\n",
              " (0.7361428025738255, 0.08193967342906461),\n",
              " (0.8121799610433325, 0.6563700994060802),\n",
              " (0.646115640773844, 0.3368543177592128),\n",
              " (0.31709885299764295, 0.38214736368443314),\n",
              " (0.19545296256012357, 0.9471246949419428),\n",
              " (0.04384419678695883, 0.8802296437678944),\n",
              " (0.11074588039726063, 0.2594483801072668),\n",
              " (0.4478853015030725, 0.41034759512952734),\n",
              " (0.9402325390592806, 0.13653375970370274),\n",
              " (0.7758140753800424, 0.21452516288275747),\n",
              " (0.9852902250641807, 0.6525469112541363),\n",
              " (0.6294745849099218, 0.16360688607257512),\n",
              " (0.8288598754418545, 0.5639999996354762),\n",
              " (0.5435249945484896, 0.20766486800076855),\n",
              " (0.4333566959986268, 0.35139665014610844),\n",
              " (0.39967460997562854, 0.27599525302520345),\n",
              " (0.25927313685911746, 0.015261099317042115),\n",
              " (0.8336017586234247, 0.8417537083068979),\n",
              " (0.0119635298890306, 0.27490386095265507),\n",
              " (0.1667451217063428, 0.44624858920424537),\n",
              " (0.3833663179519201, 0.5911490672517001),\n",
              " (0.4688115990707634, 0.04786827847339348),\n",
              " (0.6368548123994859, 0.585108934833803),\n",
              " (0.7078952462074753, 0.30616393187616775),\n",
              " (0.9107147193060395, 0.7798907014751343),\n",
              " (0.24091547984571815, 0.5815016688956678),\n",
              " (0.029133210291111822, 0.5071283526315302),\n",
              " (0.6660356798273088, 0.985911365321864),\n",
              " (0.5918280499453278, 0.13939649999001724),\n",
              " (0.06948493175641657, 0.06845060250110213),\n",
              " (0.3563469301264911, 0.6436927227311193),\n",
              " (0.6591790935075064, 0.06874419160650491),\n",
              " (0.6007463904931062, 0.045778751163531806),\n",
              " (0.19757081798177833, 0.10063953669295711),\n",
              " (0.27207098381958783, 0.22369860519446938),\n",
              " (0.5155083039062585, 0.9536091213241139),\n",
              " (0.2663573084912727, 0.1247438852087347),\n",
              " (0.4242526338670103, 0.9832354192646715),\n",
              " (0.5238117776960655, 0.6560830990119485),\n",
              " (0.13239906254453337, 0.4786153407301871),\n",
              " (0.2739253229508072, 0.7900948636695221),\n",
              " (0.5192401408888518, 0.806028025263121),\n",
              " (0.2071353239280107, 0.7872526672597902),\n",
              " (0.3480979488394308, 0.9596300299497708),\n",
              " (0.15332915539359737, 0.06658106261504038),\n",
              " (2, 4),\n",
              " (3, 1),\n",
              " (3, 3),\n",
              " (2, 2),\n",
              " (1, 2),\n",
              " (4, 4),\n",
              " (1, 4),\n",
              " (2, 1),\n",
              " (2, 3),\n",
              " (2, 4),\n",
              " (1, 1),\n",
              " (2, 2),\n",
              " (1, 1),\n",
              " (4, 3),\n",
              " (2, 3),\n",
              " (2, 2),\n",
              " (1, 3),\n",
              " (3, 2),\n",
              " (1, 3),\n",
              " (3, 3),\n",
              " (3, 2),\n",
              " (4, 3),\n",
              " (3, 2),\n",
              " (4, 4),\n",
              " (4, 3),\n",
              " (2, 3),\n",
              " (1, 4),\n",
              " (4, 4),\n",
              " (1, 4),\n",
              " (4, 1),\n",
              " (1, 4),\n",
              " (2, 2),\n",
              " (4, 2),\n",
              " (2, 1),\n",
              " (1, 2),\n",
              " (3, 1),\n",
              " (3, 2),\n",
              " (1, 2),\n",
              " (4, 3),\n",
              " (2, 4),\n",
              " (4, 3),\n",
              " (4, 2),\n",
              " (2, 4),\n",
              " (2, 4),\n",
              " (4, 1),\n",
              " (2, 1),\n",
              " (4, 3),\n",
              " (3, 1),\n",
              " (2, 3),\n",
              " (2, 4),\n",
              " (1, 4),\n",
              " (4, 4),\n",
              " (1, 2),\n",
              " (2, 3),\n",
              " (4, 2),\n",
              " (2, 4),\n",
              " (4, 4),\n",
              " (1, 2),\n",
              " (1, 1),\n",
              " (4, 2),\n",
              " (3, 4),\n",
              " (4, 3),\n",
              " (4, 4),\n",
              " (2, 1),\n",
              " (4, 3),\n",
              " (1, 2),\n",
              " (3, 1),\n",
              " (2, 3),\n",
              " (2, 3),\n",
              " (4, 1),\n",
              " (1, 4),\n",
              " (2, 3),\n",
              " (2, 2),\n",
              " (2, 3),\n",
              " (1, 3),\n",
              " (2, 4),\n",
              " (3, 4),\n",
              " (1, 2),\n",
              " (4, 3),\n",
              " (2, 1),\n",
              " (4, 1),\n",
              " (2, 1),\n",
              " (2, 3),\n",
              " (1, 3),\n",
              " (3, 1),\n",
              " (4, 3),\n",
              " (3, 4),\n",
              " (2, 2),\n",
              " (3, 1),\n",
              " (4, 1),\n",
              " (2, 3),\n",
              " (4, 2),\n",
              " (2, 4),\n",
              " (4, 1),\n",
              " (1, 4),\n",
              " (1, 2),\n",
              " (1, 1),\n",
              " (1, 2),\n",
              " (1, 1),\n",
              " (4, 3)]"
            ]
          },
          "metadata": {
            "tags": []
          },
          "execution_count": 47
        }
      ]
    },
    {
      "cell_type": "code",
      "metadata": {
        "id": "ZbgTStdYuGp6"
      },
      "source": [
        ""
      ],
      "execution_count": null,
      "outputs": []
    }
  ]
}